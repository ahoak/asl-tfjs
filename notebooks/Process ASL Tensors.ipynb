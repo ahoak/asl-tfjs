{
 "cells": [
  {
   "cell_type": "code",
   "execution_count": 1,
   "id": "638ab14a",
   "metadata": {},
   "outputs": [
    {
     "name": "stdout",
     "output_type": "stream",
     "text": [
      "Requirement already satisfied: tqdm in /anaconda/envs/py38_default/lib/python3.8/site-packages (4.62.3)\n",
      "\u001b[33mWARNING: You are using pip version 21.3.1; however, version 22.0.4 is available.\n",
      "You should consider upgrading via the '/anaconda/envs/py38_default/bin/python -m pip install --upgrade pip' command.\u001b[0m\n"
     ]
    }
   ],
   "source": [
    "!pip install tqdm\n"
   ]
  },
  {
   "cell_type": "code",
   "execution_count": 2,
   "id": "59498c76",
   "metadata": {},
   "outputs": [],
   "source": [
    "import os\n",
    "tensorDir = '../public/assets/data/projector/'\n",
    "signFiles = sorted(os.listdir(tensorDir))"
   ]
  },
  {
   "cell_type": "code",
   "execution_count": 4,
   "id": "05db90c0",
   "metadata": {},
   "outputs": [
    {
     "name": "stdout",
     "output_type": "stream",
     "text": [
      "       label                                             tensor\n",
      "0          A  0.9105098662864055\\t0.9166928814491931\\t-1.388...\n",
      "1          A  0.8399276463589831\\t0.8082201023204433\\t-1.468...\n",
      "2          A  0.2572846924192521\\t1.0\\t-9.677222734565737e-0...\n",
      "3          A  0.7518720109481812\\t1.0\\t-1.580467957192937e-0...\n",
      "4          A  0.6529940263250663\\t1.0\\t-1.6286402737836614e-...\n",
      "...      ...                                                ...\n",
      "64045  space  0.6757223439618069\\t1.0\\t-1.1983274048944332e-...\n",
      "64046  space  0.45024058594583943\\t0.7638670215862997\\t7.096...\n",
      "64047  space  0.5762996867601842\\t0.72944900386955\\t2.157028...\n",
      "64048  space  0.8530371163351852\\t0.8164891374183294\\t-3.897...\n",
      "64049  space  0.5995422595263212\\t0.7283488448777447\\t3.1215...\n",
      "\n",
      "[64050 rows x 2 columns]\n"
     ]
    }
   ],
   "source": [
    "import numpy as np\n",
    "import pandas as pd\n",
    "import numpy as np\n",
    "import os\n",
    "  \n",
    "tensor_map = {}\n",
    "output = {}\n",
    "output['label'] = []\n",
    "output['tensor'] = []\n",
    "master_df = pd.DataFrame()\n",
    "for signFile in signFiles:\n",
    "    if signFile.endswith(\".npy\"):\n",
    "        sign = os.path.splitext(signFile)[0]\n",
    "        tensor_map[sign] = np.load(os.path.join(tensorDir, signFile))\n",
    "        sign_output = []\n",
    "        for tensor in tensor_map[sign]:\n",
    "            str_tensor = '\\t'.join(map(str,tensor.tolist()))\n",
    "            output['tensor'].append(str_tensor)\n",
    "            output['label'].append(sign)\n",
    "\n",
    "\n",
    "        \n",
    "DF = pd.DataFrame(output)\n",
    "DF['tensor'].to_csv(os.path.join(tensorDir, 'tensors.csv'), index=False, header=False)\n",
    "DF['label'].to_csv(os.path.join(tensorDir, 'label.csv'), index=False, header=False)\n",
    "DF.to_csv(os.path.join(tensorDir, 'tensors_combined.csv'))\n",
    "print(DF)\n",
    "#     for tensor in tensor_map[sign]:\n",
    "        \n",
    "#         output['tensors'].append(tensor)\n",
    "#         output['labels'].append(sign)\n",
    "        \n"
   ]
  },
  {
   "cell_type": "code",
   "execution_count": null,
   "id": "a32bc00e",
   "metadata": {},
   "outputs": [],
   "source": []
  }
 ],
 "metadata": {
  "kernelspec": {
   "display_name": "Python 3",
   "language": "python",
   "name": "python3"
  },
  "language_info": {
   "codemirror_mode": {
    "name": "ipython",
    "version": 3
   },
   "file_extension": ".py",
   "mimetype": "text/x-python",
   "name": "python",
   "nbconvert_exporter": "python",
   "pygments_lexer": "ipython3",
   "version": "3.8.12"
  }
 },
 "nbformat": 4,
 "nbformat_minor": 5
}
