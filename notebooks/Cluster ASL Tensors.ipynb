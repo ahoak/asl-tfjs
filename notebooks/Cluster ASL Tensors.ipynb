{
 "cells": [
  {
   "cell_type": "code",
   "execution_count": 1,
   "id": "638ab14a",
   "metadata": {},
   "outputs": [
    {
     "name": "stdout",
     "output_type": "stream",
     "text": [
      "Requirement already satisfied: tqdm in c:\\users\\datittsw\\windows_projects\\asl-tfjs\\.venv\\lib\\site-packages (4.64.0)\n",
      "Requirement already satisfied: colorama in c:\\users\\datittsw\\windows_projects\\asl-tfjs\\.venv\\lib\\site-packages (from tqdm) (0.4.4)\n",
      "Collecting tensorflow_addons\n",
      "  Downloading tensorflow_addons-0.16.1-cp39-cp39-win_amd64.whl (755 kB)\n",
      "     -------------------------------------- 755.8/755.8 KB 6.8 MB/s eta 0:00:00\n",
      "Collecting typeguard>=2.7\n",
      "  Downloading typeguard-2.13.3-py3-none-any.whl (17 kB)\n",
      "Installing collected packages: typeguard, tensorflow_addons\n",
      "Successfully installed tensorflow_addons-0.16.1 typeguard-2.13.3\n"
     ]
    }
   ],
   "source": [
    "!pip install tqdm\n",
    "!pip install tensorflow_addons"
   ]
  },
  {
   "cell_type": "code",
   "execution_count": 2,
   "id": "b4da30ed",
   "metadata": {},
   "outputs": [
    {
     "name": "stdout",
     "output_type": "stream",
     "text": [
      "No GPU found\n"
     ]
    }
   ],
   "source": [
    "import tensorflow as tf\n",
    "if tf.test.gpu_device_name():\n",
    "    print('GPU found')\n",
    "else:\n",
    "    print(\"No GPU found\")"
   ]
  },
  {
   "cell_type": "code",
   "execution_count": 3,
   "id": "59498c76",
   "metadata": {},
   "outputs": [
    {
     "name": "stdout",
     "output_type": "stream",
     "text": [
      "['A.npy']\n"
     ]
    }
   ],
   "source": [
    "import os\n",
    "tensorDir = 'output/v2'\n",
    "signFiles = sorted(os.listdir(tensorDir))\n",
    "print(signFiles)"
   ]
  },
  {
   "cell_type": "code",
   "execution_count": 7,
   "id": "05db90c0",
   "metadata": {},
   "outputs": [],
   "source": [
    "import numpy as np\n",
    "import pandas as pd\n",
    "import numpy as np\n",
    "import os\n",
    "  \n",
    "tensor_map = {}\n",
    "master_df = pd.DataFrame()\n",
    "\n",
    "for signFile in signFiles:\n",
    "    if signFile.endswith(\".npy\"):\n",
    "        sign = os.path.splitext(signFile)[0]\n",
    "        tensor_map[sign] = np.load(os.path.join(tensorDir, signFile))\n",
    "\n",
    "        \n",
    "#         output['tensors'].append(tensor)\n",
    "#         output['labels'].append(sign)\n",
    "        \n"
   ]
  },
  {
   "cell_type": "code",
   "execution_count": 8,
   "id": "a32bc00e",
   "metadata": {},
   "outputs": [
    {
     "name": "stdout",
     "output_type": "stream",
     "text": [
      "(2180, 63)\n"
     ]
    }
   ],
   "source": [
    "count=0\n",
    "label_map={}\n",
    "sign_count = 0\n",
    "for sign in tensor_map:\n",
    "    sign_count = sign_count + np.shape(tensor_map[sign])[0]\n",
    "    \n",
    "combined=np.empty((sign_count, 63)) \n",
    "print(np.shape(combined))\n",
    "\n",
    "index = 0\n",
    "for sign in tensor_map:\n",
    "    tensors = tensor_map[sign]\n",
    "    for tensor in tensors:\n",
    "        combined[index] = tensor\n",
    "        label_map[index] = sign\n",
    "        index = index + 1"
   ]
  },
  {
   "cell_type": "markdown",
   "id": "ad7699d7",
   "metadata": {},
   "source": [
    "# KMeans"
   ]
  },
  {
   "cell_type": "code",
   "execution_count": 6,
   "id": "890b7e3f",
   "metadata": {},
   "outputs": [],
   "source": [
    "from sklearn.cluster import DBSCAN, KMeans\n",
    "clustering = KMeans(n_clusters=len(tensor_map.keys()), random_state=0).fit(combined)"
   ]
  },
  {
   "cell_type": "code",
   "execution_count": 6,
   "id": "d9da5fc5",
   "metadata": {},
   "outputs": [
    {
     "name": "stdout",
     "output_type": "stream",
     "text": [
      "[ 3  0  2 ... 16  5 16]\n"
     ]
    }
   ],
   "source": [
    "print(clustering.labels_)"
   ]
  },
  {
   "cell_type": "code",
   "execution_count": 7,
   "id": "344d70a5",
   "metadata": {},
   "outputs": [
    {
     "name": "stdout",
     "output_type": "stream",
     "text": [
      "64050\n"
     ]
    }
   ],
   "source": [
    "print(len(clustering.labels_))"
   ]
  },
  {
   "cell_type": "code",
   "execution_count": 8,
   "id": "ad565a2c",
   "metadata": {},
   "outputs": [],
   "source": [
    "sign_cluster_labels = {}\n",
    "index = 0\n",
    "for cluster_label in clustering.labels_:\n",
    "    if cluster_label not in sign_cluster_labels:\n",
    "        sign = label_map[index]\n",
    "        sign_cluster_labels[cluster_label] = sign\n",
    "    index = index + 1"
   ]
  },
  {
   "cell_type": "code",
   "execution_count": 9,
   "id": "180481c9",
   "metadata": {},
   "outputs": [
    {
     "name": "stdout",
     "output_type": "stream",
     "text": [
      "Accuracy 0.045792349726775955\n"
     ]
    }
   ],
   "source": [
    "# verify\n",
    "num_matches=0\n",
    "num_misses=0\n",
    "for sign in tensor_map:\n",
    "    tensors = tensor_map[sign]\n",
    "    for tensor in tensors:\n",
    "        prediction = clustering.predict(tensor.reshape(1, -1))[0]\n",
    "        if sign_cluster_labels[prediction] == sign:\n",
    "            num_matches = num_matches + 1\n",
    "        else:\n",
    "            num_misses = num_misses + 1\n",
    "print(\"Accuracy \" + str(num_matches / (num_matches + num_misses)))"
   ]
  },
  {
   "cell_type": "markdown",
   "id": "dc009e96",
   "metadata": {},
   "source": [
    "# Euclidean"
   ]
  },
  {
   "cell_type": "code",
   "execution_count": 16,
   "id": "4bb5c286",
   "metadata": {},
   "outputs": [],
   "source": [
    "center_points={}\n",
    "max_points={}\n",
    "min_points={}\n",
    "\n",
    "for sign in tensor_map:\n",
    "    tensors = tensor_map[sign]\n",
    "    center_points[sign] = np.average(np.array(tensors), axis=0)\n",
    "    max_points[sign] = np.max(np.array(tensors), axis=0)\n",
    "    min_points[sign] = np.min(np.array(tensors), axis=0)\n"
   ]
  },
  {
   "cell_type": "code",
   "execution_count": 20,
   "id": "4399a6ab",
   "metadata": {},
   "outputs": [
    {
     "name": "stdout",
     "output_type": "stream",
     "text": [
      "0.034482758620689655\n"
     ]
    }
   ],
   "source": [
    "print(1 / len(tensor_map))"
   ]
  },
  {
   "cell_type": "code",
   "execution_count": 19,
   "id": "0da54a88",
   "metadata": {},
   "outputs": [
    {
     "name": "stdout",
     "output_type": "stream",
     "text": [
      "Distance to center accuracy 0.08935206869633099\n"
     ]
    }
   ],
   "source": [
    "def distance_to_center():\n",
    "    # verify\n",
    "    num_matches=0\n",
    "    num_misses=0\n",
    "    for sign in tensor_map:\n",
    "        tensors = tensor_map[sign]\n",
    "        for tensor in tensors:\n",
    "            best_dist = None\n",
    "            for sign in center_points:\n",
    "                center_point = center_points[sign]\n",
    "                dist = np.linalg.norm(center_point - tensor)\n",
    "                if best_dist == None or dist < best_dist[1]:\n",
    "                    best_dist = (sign, dist)\n",
    "            if best_dist[0] == sign:\n",
    "                num_matches = num_matches + 1\n",
    "            else:\n",
    "                num_misses = num_misses + 1\n",
    "    return num_matches / (num_matches + num_misses)\n",
    "    \n",
    "print(\"Distance to center accuracy \" + str(distance_to_center()))"
   ]
  },
  {
   "cell_type": "markdown",
   "id": "fe7a5d63",
   "metadata": {},
   "source": [
    "# Neural"
   ]
  },
  {
   "cell_type": "code",
   "execution_count": 9,
   "id": "86aa27be",
   "metadata": {},
   "outputs": [],
   "source": [
    "# Import MINST data \n",
    "import tensorflow as tf \n",
    "import math\n",
    "\n",
    "inputs=[]\n",
    "outputs=[]\n",
    "\n",
    "train_inputs = []\n",
    "train_outputs = []\n",
    "test_inputs = []\n",
    "test_outputs = []\n",
    "\n",
    "idx=0\n",
    "sign_idx=0\n",
    "num_signs = len(tensor_map);\n",
    "signs=[]\n",
    "for sign in tensor_map:\n",
    "    signs.append(sign)\n",
    "    tensor_idx = 0\n",
    "    num_tensors = len(tensor_map[sign])\n",
    "    train_test_split_idx = int(math.floor(0.8 * num_tensors))\n",
    "    for tensor in tensor_map[sign]:\n",
    "        inputs.append(tensor)\n",
    "        outputs.append(sign_idx)\n",
    "        \n",
    "        if tensor_idx <= train_test_split_idx: \n",
    "            train_inputs.append(tensor)\n",
    "            train_outputs.append(sign_idx)\n",
    "        else:\n",
    "            test_inputs.append(tensor)\n",
    "            test_outputs.append(sign_idx)\n",
    "        \n",
    "        tensor_idx = tensor_idx + 1\n",
    "    sign_idx = sign_idx + 1\n",
    "\n",
    "\n",
    "# Convert to np\n",
    "inputs = np.array(inputs)\n",
    "outputs = np.array(outputs)\n",
    "train_inputs = np.array(train_inputs)\n",
    "train_outputs = np.array(train_outputs)\n",
    "test_inputs = np.array(test_inputs)\n",
    "test_outputs = np.array(test_outputs)\n",
    "\n",
    "\n",
    "def get_sign_for_prediction(prediction):\n",
    "    rounded_result = round(prediction[0])\n",
    "    if rounded_result > 0 and rounded_result < len(signs):\n",
    "        return signs[rounded_result]\n",
    "    else:\n",
    "        return None\n",
    "\n",
    "def validate_neural(model):\n",
    "        # verify\n",
    "    num_matches=0\n",
    "    num_misses=0\n",
    "    for sign in tensor_map:\n",
    "        tensors = tensor_map[sign]\n",
    "        results = model.predict(tensors)        \n",
    "        for result in results:\n",
    "            rounded_result = round(result[0])\n",
    "            if rounded_result > 0 and rounded_result < len(signs):\n",
    "                sign_result = signs[rounded_result]\n",
    "                if sign_result == sign:\n",
    "                    num_matches = num_matches + 1\n",
    "                else:\n",
    "                    num_misses = num_misses + 1\n",
    "            else:\n",
    "                num_misses = num_misses + 1\n",
    "    return num_matches / (num_matches + num_misses)"
   ]
  },
  {
   "cell_type": "code",
   "execution_count": 10,
   "id": "39d79681",
   "metadata": {},
   "outputs": [
    {
     "name": "stdout",
     "output_type": "stream",
     "text": [
      "['A']\n"
     ]
    }
   ],
   "source": [
    "print(signs)"
   ]
  },
  {
   "cell_type": "code",
   "execution_count": 10,
   "id": "8e49d320",
   "metadata": {},
   "outputs": [],
   "source": [
    "# accuracy ~55%\n",
    "import tensorflow_addons as tfa\n",
    "def neural_v1():\n",
    "    callbacks=[tfa.callbacks.TQDMProgressBar(leave_epoch_progress = False)]\n",
    "    # model = tf.keras.models.Sequential([\n",
    "    #   tf.keras.layers.InputLayer(input_shape=(63,)),\n",
    "    #   tf.keras.layers.Dense(256, activation='relu'),\n",
    "    #   tf.keras.layers.Dense(128, activation='relu'),\n",
    "    #   tf.keras.layers.Dense(1)\n",
    "    # ])\n",
    "    # model.compile(\n",
    "    #     optimizer=tf.keras.optimizers.Adam(0.001),\n",
    "    # #     loss=tf.keras.losses.CosineSimilarity(\n",
    "    # #         axis=-1,\n",
    "    # # #         reduction=losses_utils.ReductionV2.AUTO,\n",
    "    # #         name='cosine_similarity'\n",
    "    # #     ),\n",
    "    # #     loss=tf.keras.losses.MeanSquaredError(\n",
    "    # # #         reduction=tf.keras.losses_utils.ReductionV2.AUTO,\n",
    "    # #         name='mean_squared_error'\n",
    "    # #     ),\n",
    "    # #     metrics=[tf.keras.metrics.Accuracy()],\n",
    "    #     loss = 'mean_squared_error'\n",
    "    # )\n",
    "\n",
    "    def scheduler(epoch, lr):\n",
    "        if epoch < 10:\n",
    "            return lr\n",
    "        else:\n",
    "    #         return lr * tf.math.exp(-0.1)\n",
    "            return lr\n",
    "    callbacks.append(tf.keras.callbacks.LearningRateScheduler(scheduler))\n",
    "    model = tf.keras.models.Sequential([\n",
    "      tf.keras.layers.InputLayer(input_shape=(63,)),\n",
    "      tf.keras.layers.Dense(256, activation='relu'),\n",
    "      tf.keras.layers.Dense(128, activation='relu'),\n",
    "      tf.keras.layers.Dense(1)\n",
    "    ])\n",
    "    model.compile(\n",
    "        optimizer=tf.keras.optimizers.Adam(0.0001),\n",
    "    #     loss=tf.keras.losses.CosineSimilarity(\n",
    "    #         axis=-1,\n",
    "    # #         reduction=losses_utils.ReductionV2.AUTO,\n",
    "    #         name='cosine_similarity'\n",
    "    #     ),\n",
    "    #     loss=tf.keras.losses.MeanSquaredError(\n",
    "    # #         reduction=tf.keras.losses_utils.ReductionV2.AUTO,\n",
    "    #         name='mean_squared_error'\n",
    "    #     ),\n",
    "    #     metrics=[tf.keras.metrics.Accuracy()],\n",
    "        loss = 'mean_squared_error'\n",
    "    )\n",
    "\n",
    "\n",
    "    print(np.shape(train_inputs))\n",
    "    print(np.shape(train_outputs))\n",
    "    # print(\"Train Examples: \" + str(len(train_inputs)))\n",
    "    # print(\"Train Output Examples: \" + str(len(train_outputs)))\n",
    "    # print(\"Test Examples: \" + str(len(test_inputs)))\n",
    "    # print(\"Test Output Examples: \" + str(len(test_outputs)))\n",
    "    model.fit(\n",
    "        inputs,\n",
    "        outputs,\n",
    "        epochs=100,\n",
    "        batch_size=64,\n",
    "        verbose=0,\n",
    "        validation_data=(inputs, outputs),\n",
    "        callbacks=callbacks\n",
    "    )\n",
    "\n",
    "    return model\n",
    "    # model.evaluate(\n",
    "    #     inputs,\n",
    "    #     outputs\n",
    "    # )"
   ]
  },
  {
   "cell_type": "code",
   "execution_count": 11,
   "id": "e5dc86af",
   "metadata": {},
   "outputs": [],
   "source": [
    "# accuracy ~86%\n",
    "import tensorflow_addons as tfa\n",
    "def neural_v2():\n",
    "    callbacks=[tfa.callbacks.TQDMProgressBar(leave_epoch_progress = False)]\n",
    "\n",
    "    def scheduler(epoch, lr):\n",
    "        if epoch < 10:\n",
    "            return lr\n",
    "        else:\n",
    "            return lr * tf.math.exp(-0.01)\n",
    "    callbacks.append(tf.keras.callbacks.LearningRateScheduler(scheduler))\n",
    "    model = tf.keras.models.Sequential([\n",
    "      tf.keras.layers.InputLayer(input_shape=(63,)),\n",
    "      tf.keras.layers.Dense(512, activation='relu'),\n",
    "      tf.keras.layers.Dense(128, activation='relu'),\n",
    "      tf.keras.layers.Dense(1)\n",
    "    ])\n",
    "    model.compile(\n",
    "        optimizer=tf.keras.optimizers.Adam(0.001),\n",
    "        loss = 'mean_squared_error'\n",
    "    )\n",
    "\n",
    "    model.fit(\n",
    "        inputs,\n",
    "        outputs,\n",
    "        epochs=100,\n",
    "        batch_size=32,\n",
    "        verbose=0,\n",
    "        validation_data=(inputs, outputs),\n",
    "        callbacks=callbacks\n",
    "    )\n",
    "\n",
    "    return model"
   ]
  },
  {
   "cell_type": "code",
   "execution_count": 12,
   "id": "d930bf83",
   "metadata": {},
   "outputs": [],
   "source": [
    "# accuracy ~88%\n",
    "import tensorflow_addons as tfa\n",
    "def neural_v3():\n",
    "    callbacks=[tfa.callbacks.TQDMProgressBar(leave_epoch_progress = False)]\n",
    "\n",
    "    def scheduler(epoch, lr):\n",
    "        if epoch < 20:\n",
    "            return lr\n",
    "        elif epoch < 50:\n",
    "            return lr * tf.math.exp(-0.1)\n",
    "        else:\n",
    "            return lr * tf.math.exp(-0.01)\n",
    "    callbacks.append(tf.keras.callbacks.LearningRateScheduler(scheduler))\n",
    "    model = tf.keras.models.Sequential([\n",
    "      tf.keras.layers.InputLayer(input_shape=(63,)),\n",
    "      tf.keras.layers.Dense(512, activation='relu'),\n",
    "      tf.keras.layers.Dense(128, activation='relu'),\n",
    "      tf.keras.layers.Dense(1)\n",
    "    ])\n",
    "    model.compile(\n",
    "        optimizer=tf.keras.optimizers.Adam(0.001),\n",
    "        loss = 'mean_squared_error'\n",
    "    )\n",
    "\n",
    "    model.fit(\n",
    "        inputs,\n",
    "        outputs,\n",
    "        epochs=100,\n",
    "        batch_size=32,\n",
    "        verbose=0,\n",
    "        validation_data=(inputs, outputs),\n",
    "        callbacks=callbacks\n",
    "    )\n",
    "\n",
    "    return model"
   ]
  },
  {
   "cell_type": "code",
   "execution_count": 13,
   "id": "a0fe1352",
   "metadata": {},
   "outputs": [],
   "source": [
    "# accuracy ~96%\n",
    "import tensorflow_addons as tfa\n",
    "def neural_v4():\n",
    "    callbacks=[tfa.callbacks.TQDMProgressBar(leave_epoch_progress = False)]\n",
    "\n",
    "    def scheduler(epoch, lr):\n",
    "        if epoch < 20:\n",
    "            return lr\n",
    "        elif epoch < 50:\n",
    "            return lr * tf.math.exp(-0.1)\n",
    "        else:\n",
    "            return lr * tf.math.exp(-0.01)\n",
    "    callbacks.append(tf.keras.callbacks.LearningRateScheduler(scheduler))\n",
    "    model = tf.keras.models.Sequential([\n",
    "      tf.keras.layers.InputLayer(input_shape=(63,)),\n",
    "      tf.keras.layers.Dense(512, activation='relu'),\n",
    "      tf.keras.layers.Dense(256, activation='relu'),\n",
    "      tf.keras.layers.Dense(128, activation='relu'),\n",
    "      tf.keras.layers.Dense(1)\n",
    "    ])\n",
    "    model.compile(\n",
    "        optimizer=tf.keras.optimizers.Adam(0.001),\n",
    "        loss = 'mean_squared_error'\n",
    "    )\n",
    "\n",
    "    model.fit(\n",
    "        inputs,\n",
    "        outputs,\n",
    "        epochs=100,\n",
    "        batch_size=32,\n",
    "        verbose=0,\n",
    "        validation_data=(inputs, outputs),\n",
    "        callbacks=callbacks\n",
    "    )\n",
    "\n",
    "    return model"
   ]
  },
  {
   "cell_type": "code",
   "execution_count": 14,
   "id": "930642e0",
   "metadata": {},
   "outputs": [],
   "source": [
    "# accuracy ~95%\n",
    "import tensorflow_addons as tfa\n",
    "def neural_v5():\n",
    "    callbacks=[tfa.callbacks.TQDMProgressBar(leave_epoch_progress = False)]\n",
    "\n",
    "    def scheduler(epoch, lr):\n",
    "        if epoch < 20:\n",
    "            return lr\n",
    "        elif epoch < 50:\n",
    "            return lr * tf.math.exp(-0.1)\n",
    "        else:\n",
    "            return lr * tf.math.exp(-0.01)\n",
    "    callbacks.append(tf.keras.callbacks.LearningRateScheduler(scheduler))\n",
    "    model = tf.keras.models.Sequential([\n",
    "      tf.keras.layers.InputLayer(input_shape=(63,)),\n",
    "      tf.keras.layers.Dense(128, activation='relu'),\n",
    "      tf.keras.layers.Dense(128, activation='relu'),\n",
    "      tf.keras.layers.Dense(128, activation='relu'),\n",
    "      tf.keras.layers.Dense(1)\n",
    "    ])\n",
    "    model.compile(\n",
    "        optimizer=tf.keras.optimizers.Adam(0.001),\n",
    "        loss = 'mean_squared_error'\n",
    "    )\n",
    "\n",
    "    model.fit(\n",
    "        inputs,\n",
    "        outputs,\n",
    "        epochs=100,\n",
    "        batch_size=32,\n",
    "        verbose=0,\n",
    "        validation_data=(inputs, outputs),\n",
    "        callbacks=callbacks\n",
    "    )\n",
    "\n",
    "    return model"
   ]
  },
  {
   "cell_type": "code",
   "execution_count": 15,
   "id": "74043429",
   "metadata": {},
   "outputs": [],
   "source": [
    "# accuracy ~92%\n",
    "import tensorflow_addons as tfa\n",
    "def neural_v6():\n",
    "    callbacks=[tfa.callbacks.TQDMProgressBar(leave_epoch_progress = False)]\n",
    "\n",
    "    def scheduler(epoch, lr):\n",
    "        if epoch < 20:\n",
    "            return lr\n",
    "        elif epoch < 50:\n",
    "            return lr * tf.math.exp(-0.1)\n",
    "        else:\n",
    "            return lr * tf.math.exp(-0.01)\n",
    "    callbacks.append(tf.keras.callbacks.LearningRateScheduler(scheduler))\n",
    "    model = tf.keras.models.Sequential([\n",
    "      tf.keras.layers.InputLayer(input_shape=(63,)),\n",
    "      tf.keras.layers.Dense(128, activation='relu'),\n",
    "      tf.keras.layers.Dense(64, activation='relu'),\n",
    "      tf.keras.layers.Dense(64, activation='relu'),\n",
    "      tf.keras.layers.Dense(1)\n",
    "    ])\n",
    "    model.compile(\n",
    "        optimizer=tf.keras.optimizers.Adam(0.001),\n",
    "        loss = 'mean_squared_error'\n",
    "    )\n",
    "\n",
    "    model.fit(\n",
    "        inputs,\n",
    "        outputs,\n",
    "        epochs=100,\n",
    "        batch_size=32,\n",
    "        verbose=0,\n",
    "        validation_data=(inputs, outputs),\n",
    "        callbacks=callbacks\n",
    "    )\n",
    "\n",
    "    return model"
   ]
  },
  {
   "cell_type": "code",
   "execution_count": 16,
   "id": "bc250075",
   "metadata": {},
   "outputs": [],
   "source": [
    "# accuracy ~95%\n",
    "import tensorflow_addons as tfa\n",
    "def neural_v7():\n",
    "    callbacks=[tfa.callbacks.TQDMProgressBar(leave_epoch_progress = False)]\n",
    "\n",
    "    def scheduler(epoch, lr):\n",
    "        if epoch < 20:\n",
    "            return lr\n",
    "        elif epoch < 50:\n",
    "            return lr * tf.math.exp(-0.1)\n",
    "        else:\n",
    "            return lr * tf.math.exp(-0.01)\n",
    "    callbacks.append(tf.keras.callbacks.LearningRateScheduler(scheduler))\n",
    "    model = tf.keras.models.Sequential([\n",
    "      tf.keras.layers.InputLayer(input_shape=(63,)),\n",
    "      tf.keras.layers.Dense(64, activation='relu'),\n",
    "      tf.keras.layers.Dense(64, activation='relu'),\n",
    "      tf.keras.layers.Dense(64, activation='relu'),\n",
    "      tf.keras.layers.Dense(64, activation='relu'),\n",
    "      tf.keras.layers.Dense(1)\n",
    "    ])\n",
    "    model.compile(\n",
    "        optimizer=tf.keras.optimizers.Adam(0.001),\n",
    "        loss = 'mean_squared_error'\n",
    "    )\n",
    "\n",
    "    model.fit(\n",
    "        inputs,\n",
    "        outputs,\n",
    "        epochs=100,\n",
    "        batch_size=32,\n",
    "        verbose=0,\n",
    "        validation_data=(inputs, outputs),\n",
    "        callbacks=callbacks\n",
    "    )\n",
    "\n",
    "    return model"
   ]
  },
  {
   "cell_type": "code",
   "execution_count": 17,
   "id": "91694784",
   "metadata": {},
   "outputs": [],
   "source": [
    "# accuracy ~95%\n",
    "import tensorflow_addons as tfa\n",
    "def neural_v8():\n",
    "    train_inputs = np.array(inputs)\n",
    "    train_outputs = np.array(outputs)\n",
    "    test_inputs = np.array(inputs)\n",
    "    test_outputs = np.array(outputs)\n",
    "\n",
    "    callbacks=[tfa.callbacks.TQDMProgressBar(leave_epoch_progress = False)]\n",
    "\n",
    "    def scheduler(epoch, lr):\n",
    "        if epoch < 20:\n",
    "            return lr\n",
    "        elif epoch < 50:\n",
    "            return lr * tf.math.exp(-0.1)\n",
    "        else:\n",
    "            return lr * tf.math.exp(-0.01)\n",
    "    callbacks.append(tf.keras.callbacks.LearningRateScheduler(scheduler))\n",
    "    model = tf.keras.models.Sequential([\n",
    "      tf.keras.layers.InputLayer(input_shape=(63,)),\n",
    "      tf.keras.layers.Dense(64, activation='relu'),\n",
    "      tf.keras.layers.Dense(32, activation='relu'),\n",
    "      tf.keras.layers.Dense(32, activation='relu'),\n",
    "      tf.keras.layers.Dense(16, activation='relu'),\n",
    "      tf.keras.layers.Dense(1)\n",
    "    ])\n",
    "    model.compile(\n",
    "        optimizer=tf.keras.optimizers.Adam(0.001),\n",
    "        loss = 'mean_squared_error'\n",
    "    )\n",
    "\n",
    "    model.fit(\n",
    "        train_inputs,\n",
    "        train_outputs,\n",
    "        epochs=100,\n",
    "        batch_size=32,\n",
    "        verbose=0,\n",
    "        validation_data=(test_inputs, test_outputs),\n",
    "        callbacks=callbacks\n",
    "    )\n",
    "\n",
    "    return model"
   ]
  },
  {
   "cell_type": "code",
   "execution_count": 11,
   "id": "b0c01990",
   "metadata": {},
   "outputs": [],
   "source": [
    "# accuracy ~94%\n",
    "import tensorflow_addons as tfa\n",
    "def neural_v9():\n",
    "    callbacks=[tfa.callbacks.TQDMProgressBar(leave_epoch_progress = False)]\n",
    "\n",
    "    def scheduler(epoch, lr):\n",
    "        if epoch < 20:\n",
    "            return lr\n",
    "        elif epoch < 50:\n",
    "            return lr * tf.math.exp(-0.1)\n",
    "        else:\n",
    "            return lr * tf.math.exp(-0.01)\n",
    "    callbacks.append(tf.keras.callbacks.LearningRateScheduler(scheduler))\n",
    "    model = tf.keras.models.Sequential([\n",
    "      tf.keras.layers.InputLayer(input_shape=(63,)),\n",
    "      tf.keras.layers.Dense(512, activation='relu'),\n",
    "      tf.keras.layers.Dense(256, activation='relu'),\n",
    "      tf.keras.layers.Dense(128, activation='relu'),\n",
    "      tf.keras.layers.Dense(1)\n",
    "    ])\n",
    "    model.compile(\n",
    "        optimizer=tf.keras.optimizers.Adam(0.001),\n",
    "        loss = 'mean_squared_error'\n",
    "    )\n",
    "\n",
    "    model.fit(\n",
    "        train_inputs,\n",
    "        train_outputs,\n",
    "        epochs=100,\n",
    "        batch_size=32,\n",
    "        verbose=0,\n",
    "        validation_data=(test_inputs, test_outputs),\n",
    "        callbacks=callbacks\n",
    "    )\n",
    "\n",
    "    return model"
   ]
  },
  {
   "cell_type": "code",
   "execution_count": 13,
   "id": "c2b941dc",
   "metadata": {
    "scrolled": true
   },
   "outputs": [
    {
     "name": "stderr",
     "output_type": "stream",
     "text": [
      "Training:   0%|           0/100 ETA: ?s,  ?epochs/s"
     ]
    },
    {
     "name": "stdout",
     "output_type": "stream",
     "text": [
      "Epoch 1/100\n"
     ]
    },
    {
     "name": "stderr",
     "output_type": "stream",
     "text": [
      "Training:   1%|           1/100 ETA: 01:03s,   1.56epochs/s"
     ]
    },
    {
     "name": "stdout",
     "output_type": "stream",
     "text": [
      "Epoch 2/100\n"
     ]
    },
    {
     "name": "stderr",
     "output_type": "stream",
     "text": [
      "Training:   2%|▏          2/100 ETA: 00:36s,   2.65epochs/s"
     ]
    },
    {
     "name": "stdout",
     "output_type": "stream",
     "text": [
      "Epoch 3/100\n"
     ]
    },
    {
     "name": "stderr",
     "output_type": "stream",
     "text": [
      "Training:   3%|▎          3/100 ETA: 00:28s,   3.45epochs/s"
     ]
    },
    {
     "name": "stdout",
     "output_type": "stream",
     "text": [
      "Epoch 4/100\n"
     ]
    },
    {
     "name": "stderr",
     "output_type": "stream",
     "text": [
      "Training:   4%|▍          4/100 ETA: 00:23s,   4.14epochs/s"
     ]
    },
    {
     "name": "stdout",
     "output_type": "stream",
     "text": [
      "Epoch 5/100\n"
     ]
    },
    {
     "name": "stderr",
     "output_type": "stream",
     "text": [
      "Training:   5%|▌          5/100 ETA: 00:20s,   4.57epochs/s"
     ]
    },
    {
     "name": "stdout",
     "output_type": "stream",
     "text": [
      "Epoch 6/100\n"
     ]
    },
    {
     "name": "stderr",
     "output_type": "stream",
     "text": [
      "Training:   6%|▌          6/100 ETA: 00:18s,   5.00epochs/s"
     ]
    },
    {
     "name": "stdout",
     "output_type": "stream",
     "text": [
      "Epoch 7/100\n"
     ]
    },
    {
     "name": "stderr",
     "output_type": "stream",
     "text": [
      "Training:   7%|▋          7/100 ETA: 00:17s,   5.29epochs/s"
     ]
    },
    {
     "name": "stdout",
     "output_type": "stream",
     "text": [
      "Epoch 8/100\n"
     ]
    },
    {
     "name": "stderr",
     "output_type": "stream",
     "text": [
      "Training:   8%|▊          8/100 ETA: 00:16s,   5.57epochs/s"
     ]
    },
    {
     "name": "stdout",
     "output_type": "stream",
     "text": [
      "Epoch 9/100\n"
     ]
    },
    {
     "name": "stderr",
     "output_type": "stream",
     "text": [
      "Training:   9%|▉          9/100 ETA: 00:17s,   5.22epochs/s"
     ]
    },
    {
     "name": "stdout",
     "output_type": "stream",
     "text": [
      "Epoch 10/100\n"
     ]
    },
    {
     "name": "stderr",
     "output_type": "stream",
     "text": [
      "Training:  10%|█          10/100 ETA: 00:16s,   5.42epochs/s"
     ]
    },
    {
     "name": "stdout",
     "output_type": "stream",
     "text": [
      "Epoch 11/100\n"
     ]
    },
    {
     "name": "stderr",
     "output_type": "stream",
     "text": [
      "Training:  11%|█          11/100 ETA: 00:15s,   5.68epochs/s"
     ]
    },
    {
     "name": "stdout",
     "output_type": "stream",
     "text": [
      "Epoch 12/100\n"
     ]
    },
    {
     "name": "stderr",
     "output_type": "stream",
     "text": [
      "Training:  12%|█▏         12/100 ETA: 00:15s,   5.76epochs/s"
     ]
    },
    {
     "name": "stdout",
     "output_type": "stream",
     "text": [
      "Epoch 13/100\n"
     ]
    },
    {
     "name": "stderr",
     "output_type": "stream",
     "text": [
      "Training:  13%|█▎         13/100 ETA: 00:15s,   5.77epochs/s"
     ]
    },
    {
     "name": "stdout",
     "output_type": "stream",
     "text": [
      "Epoch 14/100\n"
     ]
    },
    {
     "name": "stderr",
     "output_type": "stream",
     "text": [
      "Training:  14%|█▍         14/100 ETA: 00:14s,   5.77epochs/s"
     ]
    },
    {
     "name": "stdout",
     "output_type": "stream",
     "text": [
      "Epoch 15/100\n"
     ]
    },
    {
     "name": "stderr",
     "output_type": "stream",
     "text": [
      "Training:  15%|█▌         15/100 ETA: 00:14s,   5.89epochs/s"
     ]
    },
    {
     "name": "stdout",
     "output_type": "stream",
     "text": [
      "Epoch 16/100\n"
     ]
    },
    {
     "name": "stderr",
     "output_type": "stream",
     "text": [
      "Training:  16%|█▌         16/100 ETA: 00:14s,   5.91epochs/s"
     ]
    },
    {
     "name": "stdout",
     "output_type": "stream",
     "text": [
      "Epoch 17/100\n"
     ]
    },
    {
     "name": "stderr",
     "output_type": "stream",
     "text": [
      "Training:  17%|█▋         17/100 ETA: 00:14s,   5.92epochs/s"
     ]
    },
    {
     "name": "stdout",
     "output_type": "stream",
     "text": [
      "Epoch 18/100\n"
     ]
    },
    {
     "name": "stderr",
     "output_type": "stream",
     "text": [
      "Training:  18%|█▊         18/100 ETA: 00:14s,   5.77epochs/s"
     ]
    },
    {
     "name": "stdout",
     "output_type": "stream",
     "text": [
      "Epoch 19/100\n"
     ]
    },
    {
     "name": "stderr",
     "output_type": "stream",
     "text": [
      "Training:  19%|█▉         19/100 ETA: 00:14s,   5.71epochs/s"
     ]
    },
    {
     "name": "stdout",
     "output_type": "stream",
     "text": [
      "Epoch 20/100\n"
     ]
    },
    {
     "name": "stderr",
     "output_type": "stream",
     "text": [
      "Training:  20%|██         20/100 ETA: 00:13s,   5.72epochs/s"
     ]
    },
    {
     "name": "stdout",
     "output_type": "stream",
     "text": [
      "Epoch 21/100\n"
     ]
    },
    {
     "name": "stderr",
     "output_type": "stream",
     "text": [
      "Training:  21%|██         21/100 ETA: 00:13s,   5.65epochs/s"
     ]
    },
    {
     "name": "stdout",
     "output_type": "stream",
     "text": [
      "Epoch 22/100\n"
     ]
    },
    {
     "name": "stderr",
     "output_type": "stream",
     "text": [
      "Training:  22%|██▏        22/100 ETA: 00:13s,   5.61epochs/s"
     ]
    },
    {
     "name": "stdout",
     "output_type": "stream",
     "text": [
      "Epoch 23/100\n"
     ]
    },
    {
     "name": "stderr",
     "output_type": "stream",
     "text": [
      "Training:  23%|██▎        23/100 ETA: 00:13s,   5.73epochs/s"
     ]
    },
    {
     "name": "stdout",
     "output_type": "stream",
     "text": [
      "Epoch 24/100\n"
     ]
    },
    {
     "name": "stderr",
     "output_type": "stream",
     "text": [
      "Training:  24%|██▍        24/100 ETA: 00:13s,   5.75epochs/s"
     ]
    },
    {
     "name": "stdout",
     "output_type": "stream",
     "text": [
      "Epoch 25/100\n"
     ]
    },
    {
     "name": "stderr",
     "output_type": "stream",
     "text": [
      "Training:  25%|██▌        25/100 ETA: 00:13s,   5.76epochs/s"
     ]
    },
    {
     "name": "stdout",
     "output_type": "stream",
     "text": [
      "Epoch 26/100\n"
     ]
    },
    {
     "name": "stderr",
     "output_type": "stream",
     "text": [
      "Training:  26%|██▌        26/100 ETA: 00:12s,   5.71epochs/s"
     ]
    },
    {
     "name": "stdout",
     "output_type": "stream",
     "text": [
      "Epoch 27/100\n"
     ]
    },
    {
     "name": "stderr",
     "output_type": "stream",
     "text": [
      "Training:  27%|██▋        27/100 ETA: 00:12s,   5.74epochs/s"
     ]
    },
    {
     "name": "stdout",
     "output_type": "stream",
     "text": [
      "Epoch 28/100\n"
     ]
    },
    {
     "name": "stderr",
     "output_type": "stream",
     "text": [
      "Training:  28%|██▊        28/100 ETA: 00:13s,   5.44epochs/s"
     ]
    },
    {
     "name": "stdout",
     "output_type": "stream",
     "text": [
      "Epoch 29/100\n"
     ]
    },
    {
     "name": "stderr",
     "output_type": "stream",
     "text": [
      "Training:  29%|██▉        29/100 ETA: 00:14s,   5.04epochs/s"
     ]
    },
    {
     "name": "stdout",
     "output_type": "stream",
     "text": [
      "Epoch 30/100\n"
     ]
    },
    {
     "name": "stderr",
     "output_type": "stream",
     "text": [
      "Training:  30%|███        30/100 ETA: 00:13s,   5.05epochs/s"
     ]
    },
    {
     "name": "stdout",
     "output_type": "stream",
     "text": [
      "Epoch 31/100\n"
     ]
    },
    {
     "name": "stderr",
     "output_type": "stream",
     "text": [
      "Training:  31%|███        31/100 ETA: 00:13s,   5.14epochs/s"
     ]
    },
    {
     "name": "stdout",
     "output_type": "stream",
     "text": [
      "Epoch 32/100\n"
     ]
    },
    {
     "name": "stderr",
     "output_type": "stream",
     "text": [
      "Training:  32%|███▏       32/100 ETA: 00:13s,   5.12epochs/s"
     ]
    },
    {
     "name": "stdout",
     "output_type": "stream",
     "text": [
      "Epoch 33/100\n"
     ]
    },
    {
     "name": "stderr",
     "output_type": "stream",
     "text": [
      "Training:  33%|███▎       33/100 ETA: 00:12s,   5.23epochs/s"
     ]
    },
    {
     "name": "stdout",
     "output_type": "stream",
     "text": [
      "Epoch 34/100\n"
     ]
    },
    {
     "name": "stderr",
     "output_type": "stream",
     "text": [
      "Training:  34%|███▍       34/100 ETA: 00:12s,   5.36epochs/s"
     ]
    },
    {
     "name": "stdout",
     "output_type": "stream",
     "text": [
      "Epoch 35/100\n"
     ]
    },
    {
     "name": "stderr",
     "output_type": "stream",
     "text": [
      "Training:  35%|███▌       35/100 ETA: 00:12s,   5.13epochs/s"
     ]
    },
    {
     "name": "stdout",
     "output_type": "stream",
     "text": [
      "Epoch 36/100\n"
     ]
    },
    {
     "name": "stderr",
     "output_type": "stream",
     "text": [
      "Training:  36%|███▌       36/100 ETA: 00:13s,   4.89epochs/s"
     ]
    },
    {
     "name": "stdout",
     "output_type": "stream",
     "text": [
      "Epoch 37/100\n"
     ]
    },
    {
     "name": "stderr",
     "output_type": "stream",
     "text": [
      "Training:  37%|███▋       37/100 ETA: 00:12s,   5.01epochs/s"
     ]
    },
    {
     "name": "stdout",
     "output_type": "stream",
     "text": [
      "Epoch 38/100\n"
     ]
    },
    {
     "name": "stderr",
     "output_type": "stream",
     "text": [
      "Training:  38%|███▊       38/100 ETA: 00:12s,   4.99epochs/s"
     ]
    },
    {
     "name": "stdout",
     "output_type": "stream",
     "text": [
      "Epoch 39/100\n"
     ]
    },
    {
     "name": "stderr",
     "output_type": "stream",
     "text": [
      "Training:  39%|███▉       39/100 ETA: 00:11s,   5.34epochs/s"
     ]
    },
    {
     "name": "stdout",
     "output_type": "stream",
     "text": [
      "Epoch 40/100\n"
     ]
    },
    {
     "name": "stderr",
     "output_type": "stream",
     "text": [
      "Training:  40%|████       40/100 ETA: 00:11s,   5.45epochs/s"
     ]
    },
    {
     "name": "stdout",
     "output_type": "stream",
     "text": [
      "Epoch 41/100\n"
     ]
    },
    {
     "name": "stderr",
     "output_type": "stream",
     "text": [
      "Training:  41%|████       41/100 ETA: 00:10s,   5.64epochs/s"
     ]
    },
    {
     "name": "stdout",
     "output_type": "stream",
     "text": [
      "Epoch 42/100\n"
     ]
    },
    {
     "name": "stderr",
     "output_type": "stream",
     "text": [
      "Training:  42%|████▏      42/100 ETA: 00:10s,   5.59epochs/s"
     ]
    },
    {
     "name": "stdout",
     "output_type": "stream",
     "text": [
      "Epoch 43/100\n"
     ]
    },
    {
     "name": "stderr",
     "output_type": "stream",
     "text": [
      "Training:  43%|████▎      43/100 ETA: 00:10s,   5.54epochs/s"
     ]
    },
    {
     "name": "stdout",
     "output_type": "stream",
     "text": [
      "Epoch 44/100\n"
     ]
    },
    {
     "name": "stderr",
     "output_type": "stream",
     "text": [
      "Training:  44%|████▍      44/100 ETA: 00:10s,   5.44epochs/s"
     ]
    },
    {
     "name": "stdout",
     "output_type": "stream",
     "text": [
      "Epoch 45/100\n"
     ]
    },
    {
     "name": "stderr",
     "output_type": "stream",
     "text": [
      "Training:  45%|████▌      45/100 ETA: 00:10s,   5.38epochs/s"
     ]
    },
    {
     "name": "stdout",
     "output_type": "stream",
     "text": [
      "Epoch 46/100\n"
     ]
    },
    {
     "name": "stderr",
     "output_type": "stream",
     "text": [
      "Training:  46%|████▌      46/100 ETA: 00:09s,   5.44epochs/s"
     ]
    },
    {
     "name": "stdout",
     "output_type": "stream",
     "text": [
      "Epoch 47/100\n"
     ]
    },
    {
     "name": "stderr",
     "output_type": "stream",
     "text": [
      "Training:  47%|████▋      47/100 ETA: 00:09s,   5.39epochs/s"
     ]
    },
    {
     "name": "stdout",
     "output_type": "stream",
     "text": [
      "Epoch 48/100\n"
     ]
    },
    {
     "name": "stderr",
     "output_type": "stream",
     "text": [
      "Training:  48%|████▊      48/100 ETA: 00:09s,   5.34epochs/s"
     ]
    },
    {
     "name": "stdout",
     "output_type": "stream",
     "text": [
      "Epoch 49/100\n"
     ]
    },
    {
     "name": "stderr",
     "output_type": "stream",
     "text": [
      "Training:  49%|████▉      49/100 ETA: 00:09s,   5.35epochs/s"
     ]
    },
    {
     "name": "stdout",
     "output_type": "stream",
     "text": [
      "Epoch 50/100\n"
     ]
    },
    {
     "name": "stderr",
     "output_type": "stream",
     "text": [
      "Training:  50%|█████      50/100 ETA: 00:09s,   5.35epochs/s"
     ]
    },
    {
     "name": "stdout",
     "output_type": "stream",
     "text": [
      "Epoch 51/100\n"
     ]
    },
    {
     "name": "stderr",
     "output_type": "stream",
     "text": [
      "Training:  51%|█████      51/100 ETA: 00:08s,   5.48epochs/s"
     ]
    },
    {
     "name": "stdout",
     "output_type": "stream",
     "text": [
      "Epoch 52/100\n"
     ]
    },
    {
     "name": "stderr",
     "output_type": "stream",
     "text": [
      "Training:  52%|█████▏     52/100 ETA: 00:08s,   5.47epochs/s"
     ]
    },
    {
     "name": "stdout",
     "output_type": "stream",
     "text": [
      "Epoch 53/100\n"
     ]
    },
    {
     "name": "stderr",
     "output_type": "stream",
     "text": [
      "Training:  53%|█████▎     53/100 ETA: 00:08s,   5.38epochs/s"
     ]
    },
    {
     "name": "stdout",
     "output_type": "stream",
     "text": [
      "Epoch 54/100\n"
     ]
    },
    {
     "name": "stderr",
     "output_type": "stream",
     "text": [
      "Training:  54%|█████▍     54/100 ETA: 00:08s,   5.49epochs/s"
     ]
    },
    {
     "name": "stdout",
     "output_type": "stream",
     "text": [
      "Epoch 55/100\n"
     ]
    },
    {
     "name": "stderr",
     "output_type": "stream",
     "text": [
      "Training:  55%|█████▌     55/100 ETA: 00:08s,   5.36epochs/s"
     ]
    },
    {
     "name": "stdout",
     "output_type": "stream",
     "text": [
      "Epoch 56/100\n"
     ]
    },
    {
     "name": "stderr",
     "output_type": "stream",
     "text": [
      "Training:  56%|█████▌     56/100 ETA: 00:08s,   5.41epochs/s"
     ]
    },
    {
     "name": "stdout",
     "output_type": "stream",
     "text": [
      "Epoch 57/100\n"
     ]
    },
    {
     "name": "stderr",
     "output_type": "stream",
     "text": [
      "Training:  57%|█████▋     57/100 ETA: 00:07s,   5.53epochs/s"
     ]
    },
    {
     "name": "stdout",
     "output_type": "stream",
     "text": [
      "Epoch 58/100\n"
     ]
    },
    {
     "name": "stderr",
     "output_type": "stream",
     "text": [
      "Training:  58%|█████▊     58/100 ETA: 00:07s,   5.46epochs/s"
     ]
    },
    {
     "name": "stdout",
     "output_type": "stream",
     "text": [
      "Epoch 59/100\n"
     ]
    },
    {
     "name": "stderr",
     "output_type": "stream",
     "text": [
      "Training:  59%|█████▉     59/100 ETA: 00:07s,   5.38epochs/s"
     ]
    },
    {
     "name": "stdout",
     "output_type": "stream",
     "text": [
      "Epoch 60/100\n"
     ]
    },
    {
     "name": "stderr",
     "output_type": "stream",
     "text": [
      "Training:  60%|██████     60/100 ETA: 00:07s,   5.04epochs/s"
     ]
    },
    {
     "name": "stdout",
     "output_type": "stream",
     "text": [
      "Epoch 61/100\n"
     ]
    },
    {
     "name": "stderr",
     "output_type": "stream",
     "text": [
      "Training:  61%|██████     61/100 ETA: 00:08s,   4.71epochs/s"
     ]
    },
    {
     "name": "stdout",
     "output_type": "stream",
     "text": [
      "Epoch 62/100\n"
     ]
    },
    {
     "name": "stderr",
     "output_type": "stream",
     "text": [
      "Training:  62%|██████▏    62/100 ETA: 00:08s,   4.34epochs/s"
     ]
    },
    {
     "name": "stdout",
     "output_type": "stream",
     "text": [
      "Epoch 63/100\n"
     ]
    },
    {
     "name": "stderr",
     "output_type": "stream",
     "text": [
      "Training:  63%|██████▎    63/100 ETA: 00:08s,   4.14epochs/s"
     ]
    },
    {
     "name": "stdout",
     "output_type": "stream",
     "text": [
      "Epoch 64/100\n"
     ]
    },
    {
     "name": "stderr",
     "output_type": "stream",
     "text": [
      "Training:  64%|██████▍    64/100 ETA: 00:08s,   4.02epochs/s"
     ]
    },
    {
     "name": "stdout",
     "output_type": "stream",
     "text": [
      "Epoch 65/100\n"
     ]
    },
    {
     "name": "stderr",
     "output_type": "stream",
     "text": [
      "Training:  65%|██████▌    65/100 ETA: 00:08s,   3.93epochs/s"
     ]
    },
    {
     "name": "stdout",
     "output_type": "stream",
     "text": [
      "Epoch 66/100\n"
     ]
    },
    {
     "name": "stderr",
     "output_type": "stream",
     "text": [
      "Training:  66%|██████▌    66/100 ETA: 00:08s,   3.98epochs/s"
     ]
    },
    {
     "name": "stdout",
     "output_type": "stream",
     "text": [
      "Epoch 67/100\n"
     ]
    },
    {
     "name": "stderr",
     "output_type": "stream",
     "text": [
      "Training:  67%|██████▋    67/100 ETA: 00:08s,   3.91epochs/s"
     ]
    },
    {
     "name": "stdout",
     "output_type": "stream",
     "text": [
      "Epoch 68/100\n"
     ]
    },
    {
     "name": "stderr",
     "output_type": "stream",
     "text": [
      "Training:  68%|██████▊    68/100 ETA: 00:08s,   3.90epochs/s"
     ]
    },
    {
     "name": "stdout",
     "output_type": "stream",
     "text": [
      "Epoch 69/100\n"
     ]
    },
    {
     "name": "stderr",
     "output_type": "stream",
     "text": [
      "Training:  69%|██████▉    69/100 ETA: 00:07s,   3.94epochs/s"
     ]
    },
    {
     "name": "stdout",
     "output_type": "stream",
     "text": [
      "Epoch 70/100\n"
     ]
    },
    {
     "name": "stderr",
     "output_type": "stream",
     "text": [
      "Training:  70%|███████    70/100 ETA: 00:07s,   3.98epochs/s"
     ]
    },
    {
     "name": "stdout",
     "output_type": "stream",
     "text": [
      "Epoch 71/100\n"
     ]
    },
    {
     "name": "stderr",
     "output_type": "stream",
     "text": [
      "Training:  71%|███████    71/100 ETA: 00:07s,   3.97epochs/s"
     ]
    },
    {
     "name": "stdout",
     "output_type": "stream",
     "text": [
      "Epoch 72/100\n"
     ]
    },
    {
     "name": "stderr",
     "output_type": "stream",
     "text": [
      "Training:  72%|███████▏   72/100 ETA: 00:07s,   3.97epochs/s"
     ]
    },
    {
     "name": "stdout",
     "output_type": "stream",
     "text": [
      "Epoch 73/100\n"
     ]
    },
    {
     "name": "stderr",
     "output_type": "stream",
     "text": [
      "Training:  73%|███████▎   73/100 ETA: 00:06s,   3.95epochs/s"
     ]
    },
    {
     "name": "stdout",
     "output_type": "stream",
     "text": [
      "Epoch 74/100\n"
     ]
    },
    {
     "name": "stderr",
     "output_type": "stream",
     "text": [
      "Training:  74%|███████▍   74/100 ETA: 00:06s,   3.86epochs/s"
     ]
    },
    {
     "name": "stdout",
     "output_type": "stream",
     "text": [
      "Epoch 75/100\n"
     ]
    },
    {
     "name": "stderr",
     "output_type": "stream",
     "text": [
      "Training:  75%|███████▌   75/100 ETA: 00:06s,   3.83epochs/s"
     ]
    },
    {
     "name": "stdout",
     "output_type": "stream",
     "text": [
      "Epoch 76/100\n"
     ]
    },
    {
     "name": "stderr",
     "output_type": "stream",
     "text": [
      "Training:  76%|███████▌   76/100 ETA: 00:06s,   3.84epochs/s"
     ]
    },
    {
     "name": "stdout",
     "output_type": "stream",
     "text": [
      "Epoch 77/100\n"
     ]
    },
    {
     "name": "stderr",
     "output_type": "stream",
     "text": [
      "Training:  77%|███████▋   77/100 ETA: 00:05s,   3.90epochs/s"
     ]
    },
    {
     "name": "stdout",
     "output_type": "stream",
     "text": [
      "Epoch 78/100\n"
     ]
    },
    {
     "name": "stderr",
     "output_type": "stream",
     "text": [
      "Training:  78%|███████▊   78/100 ETA: 00:05s,   3.88epochs/s"
     ]
    },
    {
     "name": "stdout",
     "output_type": "stream",
     "text": [
      "Epoch 79/100\n"
     ]
    },
    {
     "name": "stderr",
     "output_type": "stream",
     "text": [
      "Training:  79%|███████▉   79/100 ETA: 00:05s,   3.89epochs/s"
     ]
    },
    {
     "name": "stdout",
     "output_type": "stream",
     "text": [
      "Epoch 80/100\n"
     ]
    },
    {
     "name": "stderr",
     "output_type": "stream",
     "text": [
      "Training:  80%|████████   80/100 ETA: 00:05s,   3.93epochs/s"
     ]
    },
    {
     "name": "stdout",
     "output_type": "stream",
     "text": [
      "Epoch 81/100\n"
     ]
    },
    {
     "name": "stderr",
     "output_type": "stream",
     "text": [
      "Training:  81%|████████   81/100 ETA: 00:04s,   4.04epochs/s"
     ]
    },
    {
     "name": "stdout",
     "output_type": "stream",
     "text": [
      "Epoch 82/100\n"
     ]
    },
    {
     "name": "stderr",
     "output_type": "stream",
     "text": [
      "Training:  82%|████████▏  82/100 ETA: 00:04s,   4.04epochs/s"
     ]
    },
    {
     "name": "stdout",
     "output_type": "stream",
     "text": [
      "Epoch 83/100\n"
     ]
    },
    {
     "name": "stderr",
     "output_type": "stream",
     "text": [
      "Training:  83%|████████▎  83/100 ETA: 00:04s,   4.04epochs/s"
     ]
    },
    {
     "name": "stdout",
     "output_type": "stream",
     "text": [
      "Epoch 84/100\n"
     ]
    },
    {
     "name": "stderr",
     "output_type": "stream",
     "text": [
      "Training:  84%|████████▍  84/100 ETA: 00:03s,   4.02epochs/s"
     ]
    },
    {
     "name": "stdout",
     "output_type": "stream",
     "text": [
      "Epoch 85/100\n"
     ]
    },
    {
     "name": "stderr",
     "output_type": "stream",
     "text": [
      "Training:  85%|████████▌  85/100 ETA: 00:03s,   3.99epochs/s"
     ]
    },
    {
     "name": "stdout",
     "output_type": "stream",
     "text": [
      "Epoch 86/100\n"
     ]
    },
    {
     "name": "stderr",
     "output_type": "stream",
     "text": [
      "Training:  86%|████████▌  86/100 ETA: 00:03s,   3.95epochs/s"
     ]
    },
    {
     "name": "stdout",
     "output_type": "stream",
     "text": [
      "Epoch 87/100\n"
     ]
    },
    {
     "name": "stderr",
     "output_type": "stream",
     "text": [
      "Training:  87%|████████▋  87/100 ETA: 00:03s,   4.03epochs/s"
     ]
    },
    {
     "name": "stdout",
     "output_type": "stream",
     "text": [
      "Epoch 88/100\n"
     ]
    },
    {
     "name": "stderr",
     "output_type": "stream",
     "text": [
      "Training:  88%|████████▊  88/100 ETA: 00:03s,   3.92epochs/s"
     ]
    },
    {
     "name": "stdout",
     "output_type": "stream",
     "text": [
      "Epoch 89/100\n"
     ]
    },
    {
     "name": "stderr",
     "output_type": "stream",
     "text": [
      "Training:  89%|████████▉  89/100 ETA: 00:02s,   3.80epochs/s"
     ]
    },
    {
     "name": "stdout",
     "output_type": "stream",
     "text": [
      "Epoch 90/100\n"
     ]
    },
    {
     "name": "stderr",
     "output_type": "stream",
     "text": [
      "Training:  90%|█████████  90/100 ETA: 00:02s,   3.75epochs/s"
     ]
    },
    {
     "name": "stdout",
     "output_type": "stream",
     "text": [
      "Epoch 91/100\n"
     ]
    },
    {
     "name": "stderr",
     "output_type": "stream",
     "text": [
      "Training:  91%|█████████  91/100 ETA: 00:02s,   3.80epochs/s"
     ]
    },
    {
     "name": "stdout",
     "output_type": "stream",
     "text": [
      "Epoch 92/100\n"
     ]
    },
    {
     "name": "stderr",
     "output_type": "stream",
     "text": [
      "Training:  92%|█████████▏ 92/100 ETA: 00:02s,   3.78epochs/s"
     ]
    },
    {
     "name": "stdout",
     "output_type": "stream",
     "text": [
      "Epoch 93/100\n"
     ]
    },
    {
     "name": "stderr",
     "output_type": "stream",
     "text": [
      "Training:  93%|█████████▎ 93/100 ETA: 00:01s,   3.86epochs/s"
     ]
    },
    {
     "name": "stdout",
     "output_type": "stream",
     "text": [
      "Epoch 94/100\n"
     ]
    },
    {
     "name": "stderr",
     "output_type": "stream",
     "text": [
      "Training:  94%|█████████▍ 94/100 ETA: 00:01s,   3.97epochs/s"
     ]
    },
    {
     "name": "stdout",
     "output_type": "stream",
     "text": [
      "Epoch 95/100\n"
     ]
    },
    {
     "name": "stderr",
     "output_type": "stream",
     "text": [
      "Training:  95%|█████████▌ 95/100 ETA: 00:01s,   4.02epochs/s"
     ]
    },
    {
     "name": "stdout",
     "output_type": "stream",
     "text": [
      "Epoch 96/100\n"
     ]
    },
    {
     "name": "stderr",
     "output_type": "stream",
     "text": [
      "Training:  96%|█████████▌ 96/100 ETA: 00:00s,   4.09epochs/s"
     ]
    },
    {
     "name": "stdout",
     "output_type": "stream",
     "text": [
      "Epoch 97/100\n"
     ]
    },
    {
     "name": "stderr",
     "output_type": "stream",
     "text": [
      "Training:  97%|█████████▋ 97/100 ETA: 00:00s,   4.10epochs/s"
     ]
    },
    {
     "name": "stdout",
     "output_type": "stream",
     "text": [
      "Epoch 98/100\n"
     ]
    },
    {
     "name": "stderr",
     "output_type": "stream",
     "text": [
      "Training:  98%|█████████▊ 98/100 ETA: 00:00s,   4.09epochs/s"
     ]
    },
    {
     "name": "stdout",
     "output_type": "stream",
     "text": [
      "Epoch 99/100\n"
     ]
    },
    {
     "name": "stderr",
     "output_type": "stream",
     "text": [
      "Training:  99%|█████████▉ 99/100 ETA: 00:00s,   4.19epochs/s"
     ]
    },
    {
     "name": "stdout",
     "output_type": "stream",
     "text": [
      "Epoch 100/100\n"
     ]
    },
    {
     "name": "stderr",
     "output_type": "stream",
     "text": [
      "Training: 100%|██████████ 100/100 ETA: 00:00s,   4.64epochs/s\n"
     ]
    },
    {
     "name": "stdout",
     "output_type": "stream",
     "text": [
      "Accuracy: 0.0\n"
     ]
    }
   ],
   "source": [
    "import tensorflowjs as tfjs\n",
    "\n",
    "# model = neural_v1()\n",
    "model = neural_v9()\n",
    "print(\"Accuracy: \" + str(validate_neural(model)))\n",
    "\n",
    "tfjs.converters.save_keras_model(model, 'output/model/v9')"
   ]
  },
  {
   "cell_type": "code",
   "execution_count": 18,
   "id": "a34a8787",
   "metadata": {},
   "outputs": [],
   "source": [
    "import tensorflowjs as tfjs\n",
    "\n",
    "tfjs.converters.save_keras_model(model, 'output/neural_model_v4')"
   ]
  },
  {
   "cell_type": "markdown",
   "id": "a701f36b",
   "metadata": {},
   "source": [
    "# Testing"
   ]
  },
  {
   "cell_type": "code",
   "execution_count": 32,
   "id": "eadedc17",
   "metadata": {},
   "outputs": [
    {
     "name": "stdout",
     "output_type": "stream",
     "text": [
      "J\n"
     ]
    },
    {
     "data": {
      "image/png": "[encoded data removed]",
      "text/plain": [
       "<Figure size 432x288 with 1 Axes>"
      ]
     },
     "metadata": {
      "needs_background": "light"
     },
     "output_type": "display_data"
    }
   ],
   "source": [
    "import os\n",
    "import cv2\n",
    "import tensorflow as tf\n",
    "import mediapipe as mp\n",
    "import numpy as np\n",
    "from tqdm import tqdm\n",
    "from matplotlib import pyplot as plt\n",
    "\n",
    "mp_drawing = mp.solutions.drawing_utils\n",
    "mp_drawing_styles = mp.solutions.drawing_styles\n",
    "mp_hands = mp.solutions.hands\n",
    "\n",
    "with mp_hands.Hands(\n",
    "    static_image_mode=True,\n",
    "    max_num_hands=1,\n",
    "    min_detection_confidence=0.01) as hands:\n",
    "\n",
    "    file = os.path.join('tigers.jpg')\n",
    "    image = cv2.imread(file)\n",
    "#     image = cv2.flip(image, 1)\n",
    "    # Convert the BGR image to RGB before processing.\n",
    "    image = cv2.cvtColor(image, cv2.COLOR_BGR2RGB)\n",
    "    \n",
    "    # crop out title\n",
    "    image = image[400:]\n",
    "    image = image[:,0:600]\n",
    "\n",
    "\n",
    "    plt.imshow(image)\n",
    "    \n",
    "    results = hands.process(image)\n",
    "#     print(results.multi_hand_landmarks)\n",
    "\n",
    "    image_height, image_width, _ = image.shape\n",
    "    annotated_image = image.copy()\n",
    "    for hand_landmarks in results.multi_hand_landmarks:\n",
    "        mp_drawing.draw_landmarks(\n",
    "          annotated_image,\n",
    "          hand_landmarks,\n",
    "          mp_hands.HAND_CONNECTIONS,\n",
    "          mp_drawing_styles.get_default_hand_landmarks_style(),\n",
    "          mp_drawing_styles.get_default_hand_connections_style())\n",
    "        index = 0\n",
    "        tensor = np.array([[res.x, res.y, res.z] for res in hand_landmarks.landmark]).flatten()\n",
    "        plt.imshow(annotated_image)\n",
    "        print(get_sign_for_prediction(model.predict(np.array([tensor]))[0]))\n"
   ]
  },
  {
   "cell_type": "code",
   "execution_count": null,
   "id": "3f147ff3",
   "metadata": {},
   "outputs": [],
   "source": []
  }
 ],
 "metadata": {
  "kernelspec": {
   "display_name": "Python 3",
   "language": "python",
   "name": "python3"
  },
  "language_info": {
   "codemirror_mode": {
    "name": "ipython",
    "version": 3
   },
   "file_extension": ".py",
   "mimetype": "text/x-python",
   "name": "python",
   "nbconvert_exporter": "python",
   "pygments_lexer": "ipython3",
   "version": "3.9.12"
  }
 },
 "nbformat": 4,
 "nbformat_minor": 5
}
